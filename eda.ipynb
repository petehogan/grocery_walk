{
 "cells": [
  {
   "cell_type": "markdown",
   "id": "9becd82f",
   "metadata": {},
   "source": [
    "# First commit"
   ]
  },
  {
   "cell_type": "code",
   "execution_count": 1,
   "id": "a8f80cbf",
   "metadata": {},
   "outputs": [
    {
     "name": "stdout",
     "output_type": "stream",
     "text": [
      "hello\n"
     ]
    }
   ],
   "source": [
    "print('hello')"
   ]
  },
  {
   "cell_type": "code",
   "execution_count": 9,
   "id": "925a3b54",
   "metadata": {},
   "outputs": [],
   "source": [
    "#! pip install -r kroger/python-kroger-client/requirements.txt"
   ]
  },
  {
   "cell_type": "code",
   "execution_count": 13,
   "id": "2f73b3de",
   "metadata": {},
   "outputs": [],
   "source": [
    "import os\n",
    "os.environ['KROGER_CLIENT_ID'] = 'randomwalk-cae608773226c3fd9897f53c5776d9803270383690547060061'\n",
    "os.environ['KROGER_CLIENT_SECRET'] = 'A3fcTjyE606zZBCSfH6AL4U0yk1oObOr2oxlV7XV'\n",
    "os.environ['KROGER_REDIRECT_URI'] = 'http://localhost:8888'\n",
    "os.environ['KROGER_USERNAME'] = 'test'\n",
    "os.environ['KROGER_PASSWORD'] = 'nothing'"
   ]
  },
  {
   "cell_type": "code",
   "execution_count": 4,
   "id": "8ce56a08",
   "metadata": {},
   "outputs": [],
   "source": [
    "import os, sys\n",
    "sys.path.append('kroger/python-kroger-client/')"
   ]
  },
  {
   "cell_type": "code",
   "execution_count": 14,
   "id": "ba8a694c",
   "metadata": {},
   "outputs": [],
   "source": [
    "from python_kroger_client.client import (\n",
    "    KrogerCustomerClient,\n",
    "    KrogerServiceClient,\n",
    ")\n",
    "\n",
    "from python_kroger_client.config import (\n",
    "    customer_username,\n",
    "    customer_password,\n",
    "    encoded_client_token,\n",
    "    redirect_uri,\n",
    ")"
   ]
  },
  {
   "cell_type": "code",
   "execution_count": 15,
   "id": "f4da2ee3",
   "metadata": {},
   "outputs": [
    {
     "data": {
      "text/plain": [
       "'cmFuZG9td2Fsay1jYWU2MDg3NzMyMjZjM2ZkOTg5N2Y1M2M1Nzc2ZDk4MDMyNzAzODM2OTA1NDcwNjAwNjE6QTNmY1RqeUU2MDZ6WkJDU2ZINkFMNFUweWsxb09iT3Iyb3hsVjdYVg=='"
      ]
     },
     "execution_count": 15,
     "metadata": {},
     "output_type": "execute_result"
    }
   ],
   "source": [
    "encoded_client_token"
   ]
  },
  {
   "cell_type": "code",
   "execution_count": 30,
   "id": "a14d1216",
   "metadata": {},
   "outputs": [],
   "source": [
    "# service_client = KrogerServiceClient(encoded_client_token=encoded_client_token)\n",
    "# products = service_client.search_products(term=\"\", limit=10, location_id='02600845')\n"
   ]
  },
  {
   "cell_type": "code",
   "execution_count": 16,
   "id": "ed8ae4bd",
   "metadata": {},
   "outputs": [],
   "source": [
    "#     def get_locations(self, zipcode, within_miles=10, limit=5, chain='Kroger'):\n",
    "#         params = get_mapped_params(locals())\n",
    "#         endpoint = '/locations'\n",
    "\n",
    "#         results = self._make_get_request(endpoint, params=params)\n",
    "#         data = results.get('data')\n",
    "#         return [Location.from_json(location) for location in data]\n",
    "\n",
    "\n",
    "client = KrogerServiceClient(encoded_client_token)\n",
    "# locs = client.get_locations(zipcode = '80302')\n",
    "# print(locs)"
   ]
  },
  {
   "cell_type": "code",
   "execution_count": 17,
   "id": "c969296f",
   "metadata": {},
   "outputs": [
    {
     "ename": "TypeError",
     "evalue": "'NoneType' object is not iterable",
     "output_type": "error",
     "traceback": [
      "\u001b[1;31m---------------------------------------------------------------------------\u001b[0m",
      "\u001b[1;31mTypeError\u001b[0m                                 Traceback (most recent call last)",
      "\u001b[1;32mC:\\Users\\PETERH~1\\AppData\\Local\\Temp/ipykernel_14140/1193689944.py\u001b[0m in \u001b[0;36m<module>\u001b[1;34m\u001b[0m\n\u001b[1;32m----> 1\u001b[1;33m \u001b[0mclient\u001b[0m\u001b[1;33m.\u001b[0m\u001b[0mget_locations\u001b[0m\u001b[1;33m(\u001b[0m\u001b[0mzipcode\u001b[0m \u001b[1;33m=\u001b[0m \u001b[1;36m80302\u001b[0m\u001b[1;33m)\u001b[0m\u001b[1;33m\u001b[0m\u001b[1;33m\u001b[0m\u001b[0m\n\u001b[0m",
      "\u001b[1;32m~\\grocery_store\\kroger\\python-kroger-client\\python_kroger_client\\client.py\u001b[0m in \u001b[0;36mget_locations\u001b[1;34m(self, zipcode, within_miles, limit, chain)\u001b[0m\n\u001b[0;32m     39\u001b[0m         \u001b[0mresults\u001b[0m \u001b[1;33m=\u001b[0m \u001b[0mself\u001b[0m\u001b[1;33m.\u001b[0m\u001b[0m_make_get_request\u001b[0m\u001b[1;33m(\u001b[0m\u001b[0mendpoint\u001b[0m\u001b[1;33m,\u001b[0m \u001b[0mparams\u001b[0m\u001b[1;33m=\u001b[0m\u001b[0mparams\u001b[0m\u001b[1;33m)\u001b[0m\u001b[1;33m\u001b[0m\u001b[1;33m\u001b[0m\u001b[0m\n\u001b[0;32m     40\u001b[0m         \u001b[0mdata\u001b[0m \u001b[1;33m=\u001b[0m \u001b[0mresults\u001b[0m\u001b[1;33m.\u001b[0m\u001b[0mget\u001b[0m\u001b[1;33m(\u001b[0m\u001b[1;34m'data'\u001b[0m\u001b[1;33m)\u001b[0m\u001b[1;33m\u001b[0m\u001b[1;33m\u001b[0m\u001b[0m\n\u001b[1;32m---> 41\u001b[1;33m         \u001b[1;32mreturn\u001b[0m \u001b[1;33m[\u001b[0m\u001b[0mLocation\u001b[0m\u001b[1;33m.\u001b[0m\u001b[0mfrom_json\u001b[0m\u001b[1;33m(\u001b[0m\u001b[0mlocation\u001b[0m\u001b[1;33m)\u001b[0m \u001b[1;32mfor\u001b[0m \u001b[0mlocation\u001b[0m \u001b[1;32min\u001b[0m \u001b[0mdata\u001b[0m\u001b[1;33m]\u001b[0m\u001b[1;33m\u001b[0m\u001b[1;33m\u001b[0m\u001b[0m\n\u001b[0m\u001b[0;32m     42\u001b[0m \u001b[1;33m\u001b[0m\u001b[0m\n\u001b[0;32m     43\u001b[0m \u001b[1;33m\u001b[0m\u001b[0m\n",
      "\u001b[1;31mTypeError\u001b[0m: 'NoneType' object is not iterable"
     ]
    }
   ],
   "source": [
    "client.get_locations(zipcode = 80302)"
   ]
  },
  {
   "cell_type": "code",
   "execution_count": null,
   "id": "96bde5ce",
   "metadata": {},
   "outputs": [],
   "source": [
    "class KrogerClient:\n",
    "    def _make_get_request(self, endpoint, params=None):\n",
    "        url = API_URL + endpoint\n",
    "        headers = {\n",
    "            'Content-Type': 'application/json',\n",
    "            'Authorization': f'Bearer {self.token}',\n",
    "        }\n",
    "\n",
    "        response = requests.get(url, headers=headers, params=params)\n",
    "        return json.loads(response.text)"
   ]
  },
  {
   "cell_type": "code",
   "execution_count": 12,
   "id": "032e5188",
   "metadata": {},
   "outputs": [
    {
     "name": "stdout",
     "output_type": "stream",
     "text": [
      "==================================================\n",
      "============== SERVICE CLIENT ====================\n",
      "==================================================\n"
     ]
    },
    {
     "ename": "TypeError",
     "evalue": "'NoneType' object is not iterable",
     "output_type": "error",
     "traceback": [
      "\u001b[1;31m---------------------------------------------------------------------------\u001b[0m",
      "\u001b[1;31mTypeError\u001b[0m                                 Traceback (most recent call last)",
      "\u001b[1;32mC:\\Users\\PETERH~1\\AppData\\Local\\Temp/ipykernel_14140/1643591762.py\u001b[0m in \u001b[0;36m<module>\u001b[1;34m\u001b[0m\n\u001b[0;32m     18\u001b[0m \u001b[0mprint\u001b[0m\u001b[1;33m(\u001b[0m\u001b[1;34m\"==================================================\"\u001b[0m\u001b[1;33m)\u001b[0m\u001b[1;33m\u001b[0m\u001b[1;33m\u001b[0m\u001b[0m\n\u001b[0;32m     19\u001b[0m \u001b[0mservice_client\u001b[0m \u001b[1;33m=\u001b[0m \u001b[0mKrogerServiceClient\u001b[0m\u001b[1;33m(\u001b[0m\u001b[0mencoded_client_token\u001b[0m\u001b[1;33m=\u001b[0m\u001b[0mencoded_client_token\u001b[0m\u001b[1;33m)\u001b[0m\u001b[1;33m\u001b[0m\u001b[1;33m\u001b[0m\u001b[0m\n\u001b[1;32m---> 20\u001b[1;33m \u001b[0mproducts\u001b[0m \u001b[1;33m=\u001b[0m \u001b[0mservice_client\u001b[0m\u001b[1;33m.\u001b[0m\u001b[0msearch_products\u001b[0m\u001b[1;33m(\u001b[0m\u001b[0mterm\u001b[0m\u001b[1;33m=\u001b[0m\u001b[1;34m\"Taco\"\u001b[0m\u001b[1;33m,\u001b[0m \u001b[0mlimit\u001b[0m\u001b[1;33m=\u001b[0m\u001b[1;36m10\u001b[0m\u001b[1;33m,\u001b[0m \u001b[0mlocation_id\u001b[0m\u001b[1;33m=\u001b[0m\u001b[1;34m'02600845'\u001b[0m\u001b[1;33m)\u001b[0m\u001b[1;33m\u001b[0m\u001b[1;33m\u001b[0m\u001b[0m\n\u001b[0m\u001b[0;32m     21\u001b[0m \u001b[0mprint\u001b[0m\u001b[1;33m(\u001b[0m\u001b[1;33m)\u001b[0m\u001b[1;33m\u001b[0m\u001b[1;33m\u001b[0m\u001b[0m\n\u001b[0;32m     22\u001b[0m \u001b[0mprint\u001b[0m\u001b[1;33m(\u001b[0m\u001b[1;34m\"PRODUCTS\"\u001b[0m\u001b[1;33m)\u001b[0m\u001b[1;33m\u001b[0m\u001b[1;33m\u001b[0m\u001b[0m\n",
      "\u001b[1;32m~\\grocery_store\\kroger\\python-kroger-client\\python_kroger_client\\client.py\u001b[0m in \u001b[0;36msearch_products\u001b[1;34m(self, term, location_id, product_id, brand, fulfillment, limit)\u001b[0m\n\u001b[0;32m     30\u001b[0m         \u001b[0mresults\u001b[0m \u001b[1;33m=\u001b[0m \u001b[0mself\u001b[0m\u001b[1;33m.\u001b[0m\u001b[0m_make_get_request\u001b[0m\u001b[1;33m(\u001b[0m\u001b[0mendpoint\u001b[0m\u001b[1;33m,\u001b[0m \u001b[0mparams\u001b[0m\u001b[1;33m=\u001b[0m\u001b[0mparams\u001b[0m\u001b[1;33m)\u001b[0m\u001b[1;33m\u001b[0m\u001b[1;33m\u001b[0m\u001b[0m\n\u001b[0;32m     31\u001b[0m         \u001b[0mdata\u001b[0m \u001b[1;33m=\u001b[0m \u001b[0mresults\u001b[0m\u001b[1;33m.\u001b[0m\u001b[0mget\u001b[0m\u001b[1;33m(\u001b[0m\u001b[1;34m'data'\u001b[0m\u001b[1;33m)\u001b[0m\u001b[1;33m\u001b[0m\u001b[1;33m\u001b[0m\u001b[0m\n\u001b[1;32m---> 32\u001b[1;33m         \u001b[1;32mreturn\u001b[0m \u001b[1;33m[\u001b[0m\u001b[0mProduct\u001b[0m\u001b[1;33m.\u001b[0m\u001b[0mfrom_json\u001b[0m\u001b[1;33m(\u001b[0m\u001b[0mproduct\u001b[0m\u001b[1;33m)\u001b[0m \u001b[1;32mfor\u001b[0m \u001b[0mproduct\u001b[0m \u001b[1;32min\u001b[0m \u001b[0mdata\u001b[0m\u001b[1;33m]\u001b[0m\u001b[1;33m\u001b[0m\u001b[1;33m\u001b[0m\u001b[0m\n\u001b[0m\u001b[0;32m     33\u001b[0m \u001b[1;33m\u001b[0m\u001b[0m\n\u001b[0;32m     34\u001b[0m \u001b[1;33m\u001b[0m\u001b[0m\n",
      "\u001b[1;31mTypeError\u001b[0m: 'NoneType' object is not iterable"
     ]
    }
   ],
   "source": [
    "def add_to_items(items, product, quantity):\n",
    "    \"\"\" Adds specified item to list of items with given quantity and returns items\n",
    "    Arguments:\n",
    "        items {array} -- An array of items to purchase\n",
    "        product {Product} -- The product we want to buy\n",
    "        quantity {int} -- How much of the product we want to buy\n",
    "    \"\"\"\n",
    "    item_to_add = {\n",
    "        \"upc\": product.upc,\n",
    "        \"quantity\": quantity\n",
    "    }\n",
    "    items.append(item_to_add)\n",
    "    return items\n",
    "\n",
    "\n",
    "print(\"==================================================\")\n",
    "print(\"============== SERVICE CLIENT ====================\")\n",
    "print(\"==================================================\")\n",
    "service_client = KrogerServiceClient(encoded_client_token=encoded_client_token)\n",
    "products = service_client.search_products(term=\"Taco\", limit=10, location_id='02600845')\n",
    "print()\n",
    "print(\"PRODUCTS\")\n",
    "print(\"==================================================\")\n",
    "print()\n",
    "for p in products: print(p)\n",
    "print()\n",
    "locations = service_client.get_locations(37206, within_miles=10, limit=10)\n",
    "print(\"LOCATIONS\")\n",
    "print(\"==================================================\")\n",
    "print()\n",
    "for l in locations: print(l)\n",
    "print()"
   ]
  },
  {
   "cell_type": "code",
   "execution_count": 18,
   "id": "f97172a0",
   "metadata": {},
   "outputs": [],
   "source": [
    "def kroger_auth(client_id,redirect_uri):\n",
    "    auth_params = {'scope': 'product.compact',\n",
    "                   'response_type': 'code',\n",
    "                   'client_id': client_id,\n",
    "                   'redirect_uri': redirect_uri,\n",
    "                   }\n",
    "\n",
    "    html = requests.get(\"https://api.kroger.com/v1/connect/oauth2/authorize\",\n",
    "                        params = auth_params)\n",
    "\n",
    "    # Print the link to the approval page\n",
    "    return print(html.url)\n",
    "\n",
    "def kroger_access(auth_code):\n",
    "    token_url = 'https://api.kroger.com/v1/connect/oauth2/token'\n",
    "\n",
    "    qd = {'grant_type': 'authorization_code',\n",
    "          'code': auth_code,\n",
    "          'redirect_uri': redirect_uri,\n",
    "          'client_id': client_id,\n",
    "          'client_secret': client_secret}\n",
    "\n",
    "    response = requests.post(token_url, data=qd, timeout=60)\n",
    "    response = response.json()\n",
    "\n",
    "    if 'error' in response.keys():\n",
    "        return print(\"Access Unsuccessfully Granted! Please try again!\")\n",
    "    else:\n",
    "        access_token = response['access_token']\n",
    "        refresh_token = response['refresh_token']\n",
    "        return [\"Access Successfully Granted!\",access_token, refresh_token]\n",
    "    \n",
    "def kroger_refresh(refresh_token):\n",
    "    token_url = 'https://api.kroger.com/v1/connect/oauth2/token'\n",
    "\n",
    "    qd = {'grant_type': 'refresh_token',\n",
    "          'refresh_token': refresh_token,\n",
    "          'client_id': client_id,\n",
    "          'client_secret': client_secret}\n",
    "\n",
    "    response = requests.post(token_url, data=qd, timeout=60)\n",
    "    response = response.json()\n",
    "\n",
    "    if 'error' in response.keys():\n",
    "        return print(\"Access Unsuccessfully Granted! Please try again!\")\n",
    "    else:\n",
    "        access_token = response['access_token']\n",
    "        refresh_token = response['refresh_token']\n",
    "        return [\"Access Successfully Granted!\",access_token, refresh_token]\n",
    "    \n",
    "def pull_product_data(category,resultlimit): \n",
    "    global access_token, refresh_token\n",
    "    \n",
    "    # get raw data\n",
    "    url = 'https://api.kroger.com/v1/products?filter.term='+category+'&filter.locationId=01400441&filter.limit='+str(resultlimit)\n",
    "    headers = {\"content-type\": \"application/json; charset=UTF-8\",'Authorization':'Bearer {}'.format(access_token)}\n",
    "    try:\n",
    "        response = requests.get(url, headers=headers).json()\n",
    "\n",
    "        # refresh access token if it has expired \n",
    "        if 'error' in response.keys():\n",
    "            refresh = kroger_refresh(refresh_token)\n",
    "            access_token = refresh[1]\n",
    "            refresh_token = refresh[2]\n",
    "            headers = {\"content-type\": \"application/json; charset=UTF-8\",'Authorization':'Bearer {}'.format(access_token)}\n",
    "            response = requests.get(url, headers=headers).json()\n",
    "    except:\n",
    "        response = {'data': []}\n",
    "        \n",
    "    df = json_normalize(response,record_path ='data')\n",
    "\n",
    "    # get selling details\n",
    "    items = pd.DataFrame()\n",
    "    for i in range(0,df.shape[0]):\n",
    "        temp = df['items'][i][0]\n",
    "        for info in temp.keys():\n",
    "            items.loc[i,'description'] = df.loc[i,'description']\n",
    "            if type(temp[info]) == dict:\n",
    "                for subinfo in temp[info].keys():\n",
    "                    text = str(info+'_'+subinfo)\n",
    "                    items.loc[i,text] = temp[info][subinfo]\n",
    "            else:\n",
    "                items.loc[i,info] = temp[info]\n",
    "\n",
    "    return items, access_token, refresh_token\n",
    "\n",
    "\n"
   ]
  },
  {
   "cell_type": "code",
   "execution_count": 20,
   "id": "f1385b66",
   "metadata": {},
   "outputs": [],
   "source": [
    "import requests"
   ]
  },
  {
   "cell_type": "code",
   "execution_count": 24,
   "id": "51b81fc1",
   "metadata": {},
   "outputs": [
    {
     "name": "stdout",
     "output_type": "stream",
     "text": [
      "https://api.kroger.com/v1/connect/oauth2/authorize?scope=product.compact&response_type=code&client_id=randomwalk-cae608773226c3fd9897f53c5776d9803270383690547060061&redirect_uri=http%3A%2F%2Flocalhost%3A8888\n"
     ]
    }
   ],
   "source": [
    "client_id = \"randomwalk-cae608773226c3fd9897f53c5776d9803270383690547060061\"\n",
    "client_secret = \"A3fcTjyE606zZBCSfH6AL4U0yk1oObOr2oxlV7XV\"\n",
    "redirect_uri = 'http://localhost:8888'\n",
    "\n",
    "# Request authentication URL. After running this function, click on the link generated to be taken to your \n",
    "# redirect page for authentication code.\n",
    "kroger_auth(client_id,redirect_uri)"
   ]
  },
  {
   "cell_type": "code",
   "execution_count": null,
   "id": "206132f7",
   "metadata": {},
   "outputs": [],
   "source": []
  }
 ],
 "metadata": {
  "kernelspec": {
   "display_name": "Python 3 (ipykernel)",
   "language": "python",
   "name": "python3"
  },
  "language_info": {
   "codemirror_mode": {
    "name": "ipython",
    "version": 3
   },
   "file_extension": ".py",
   "mimetype": "text/x-python",
   "name": "python",
   "nbconvert_exporter": "python",
   "pygments_lexer": "ipython3",
   "version": "3.8.3"
  }
 },
 "nbformat": 4,
 "nbformat_minor": 5
}
