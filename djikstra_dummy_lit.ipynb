{
 "cells": [
  {
   "cell_type": "code",
   "execution_count": 1,
   "id": "086cb8aa",
   "metadata": {},
   "outputs": [
    {
     "name": "stdout",
     "output_type": "stream",
     "text": [
      "Requirement already satisfied: networkx in c:\\users\\peter hogan\\anaconda3\\lib\\site-packages (2.6.3)\n"
     ]
    },
    {
     "name": "stderr",
     "output_type": "stream",
     "text": [
      "WARNING: Ignoring invalid distribution -umpy (c:\\users\\peter hogan\\anaconda3\\lib\\site-packages)\n",
      "WARNING: Ignoring invalid distribution -umpy (c:\\users\\peter hogan\\anaconda3\\lib\\site-packages)\n",
      "WARNING: Ignoring invalid distribution -umpy (c:\\users\\peter hogan\\anaconda3\\lib\\site-packages)\n",
      "WARNING: Ignoring invalid distribution -umpy (c:\\users\\peter hogan\\anaconda3\\lib\\site-packages)\n",
      "WARNING: Ignoring invalid distribution -umpy (c:\\users\\peter hogan\\anaconda3\\lib\\site-packages)\n",
      "WARNING: Ignoring invalid distribution -umpy (c:\\users\\peter hogan\\anaconda3\\lib\\site-packages)\n"
     ]
    }
   ],
   "source": [
    "! pip install networkx"
   ]
  },
  {
   "cell_type": "code",
   "execution_count": 54,
   "id": "289a9b9a",
   "metadata": {},
   "outputs": [],
   "source": [
    "import matplotlib.pyplot as plt"
   ]
  },
  {
   "cell_type": "code",
   "execution_count": 3,
   "id": "dd78d603",
   "metadata": {},
   "outputs": [],
   "source": [
    "import networkx as nx"
   ]
  },
  {
   "cell_type": "code",
   "execution_count": 14,
   "id": "aa940d06",
   "metadata": {},
   "outputs": [],
   "source": [
    "G = nx.cycle_graph(10)\n"
   ]
  },
  {
   "cell_type": "code",
   "execution_count": 35,
   "id": "16691e27",
   "metadata": {},
   "outputs": [],
   "source": [
    "#G = nx.path_graph(5)\n",
    "source = 0 \n",
    "target = 8\n",
    "path = nx.shortest_path(G, source=0, target=8)"
   ]
  },
  {
   "cell_type": "code",
   "execution_count": 36,
   "id": "c6fad567",
   "metadata": {},
   "outputs": [],
   "source": [
    "attrs = dict(zip(list(G.nodes),[1 if x in path else 0 for x in list(G.nodes)]))"
   ]
  },
  {
   "cell_type": "code",
   "execution_count": 41,
   "id": "495a0c9b",
   "metadata": {},
   "outputs": [],
   "source": [
    "colors = [1 if x in path else 0 for x in list(G.nodes)]\n",
    "colors = [2 if i in [source,target] else x for i,x in enumerate(colors)]\n"
   ]
  },
  {
   "cell_type": "code",
   "execution_count": 52,
   "id": "5ab039e0",
   "metadata": {},
   "outputs": [],
   "source": [
    "colors = [(x+1)*5 for x in colors]"
   ]
  },
  {
   "cell_type": "code",
   "execution_count": 56,
   "id": "c753d271",
   "metadata": {},
   "outputs": [
    {
     "data": {
      "image/png": "[encoded data removed]",
      "text/plain": [
       "<Figure size 432x288 with 1 Axes>"
      ]
     },
     "metadata": {},
     "output_type": "display_data"
    }
   ],
   "source": [
    "nx.draw(G,node_color = colors,with_labels = True, cmap = plt.cm.autumn)"
   ]
  },
  {
   "cell_type": "code",
   "execution_count": null,
   "id": "5391e224",
   "metadata": {},
   "outputs": [],
   "source": []
  },
  {
   "cell_type": "code",
   "execution_count": null,
   "id": "4e956e37",
   "metadata": {},
   "outputs": [],
   "source": []
  }
 ],
 "metadata": {
  "kernelspec": {
   "display_name": "Python 3 (ipykernel)",
   "language": "python",
   "name": "python3"
  },
  "language_info": {
   "codemirror_mode": {
    "name": "ipython",
    "version": 3
   },
   "file_extension": ".py",
   "mimetype": "text/x-python",
   "name": "python",
   "nbconvert_exporter": "python",
   "pygments_lexer": "ipython3",
   "version": "3.8.3"
  }
 },
 "nbformat": 4,
 "nbformat_minor": 5
}
